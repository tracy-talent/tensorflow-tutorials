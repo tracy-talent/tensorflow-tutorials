{
 "cells": [
  {
   "cell_type": "code",
   "execution_count": 1,
   "metadata": {},
   "outputs": [
    {
     "name": "stdout",
     "output_type": "stream",
     "text": [
      "2.0.0\n",
      "2.2.4-tf\n"
     ]
    }
   ],
   "source": [
    "from __future__ import absolute_import, division, print_function, unicode_literals\n",
    "\n",
    "import tensorflow as tf\n",
    "from tensorflow import keras\n",
    "\n",
    "import numpy as np\n",
    "\n",
    "print(tf.__version__)\n",
    "print(tf.keras.__version__)"
   ]
  },
  {
   "cell_type": "markdown",
   "metadata": {},
   "source": [
    "## explore the data"
   ]
  },
  {
   "cell_type": "code",
   "execution_count": 2,
   "metadata": {},
   "outputs": [],
   "source": [
    "imdb = keras.datasets.imdb\n",
    "\n",
    "(train_data, train_labels), (test_data, test_labels) = imdb.load_data(num_words=10000)"
   ]
  },
  {
   "cell_type": "code",
   "execution_count": 3,
   "metadata": {},
   "outputs": [
    {
     "name": "stdout",
     "output_type": "stream",
     "text": [
      "Training entries: 25000, labels: 25000\n"
     ]
    }
   ],
   "source": [
    "print(f\"Training entries: {len(train_data)}, labels: {len(train_labels)}\")"
   ]
  },
  {
   "cell_type": "code",
   "execution_count": 4,
   "metadata": {},
   "outputs": [
    {
     "name": "stdout",
     "output_type": "stream",
     "text": [
      "[1, 14, 22, 16, 43, 530, 973, 1622, 1385, 65, 458, 4468, 66, 3941, 4, 173, 36, 256, 5, 25, 100, 43, 838, 112, 50, 670, 2, 9, 35, 480, 284, 5, 150, 4, 172, 112, 167, 2, 336, 385, 39, 4, 172, 4536, 1111, 17, 546, 38, 13, 447, 4, 192, 50, 16, 6, 147, 2025, 19, 14, 22, 4, 1920, 4613, 469, 4, 22, 71, 87, 12, 16, 43, 530, 38, 76, 15, 13, 1247, 4, 22, 17, 515, 17, 12, 16, 626, 18, 2, 5, 62, 386, 12, 8, 316, 8, 106, 5, 4, 2223, 5244, 16, 480, 66, 3785, 33, 4, 130, 12, 16, 38, 619, 5, 25, 124, 51, 36, 135, 48, 25, 1415, 33, 6, 22, 12, 215, 28, 77, 52, 5, 14, 407, 16, 82, 2, 8, 4, 107, 117, 5952, 15, 256, 4, 2, 7, 3766, 5, 723, 36, 71, 43, 530, 476, 26, 400, 317, 46, 7, 4, 2, 1029, 13, 104, 88, 4, 381, 15, 297, 98, 32, 2071, 56, 26, 141, 6, 194, 7486, 18, 4, 226, 22, 21, 134, 476, 26, 480, 5, 144, 30, 5535, 18, 51, 36, 28, 224, 92, 25, 104, 4, 226, 65, 16, 38, 1334, 88, 12, 16, 283, 5, 16, 4472, 113, 103, 32, 15, 16, 5345, 19, 178, 32]\n"
     ]
    }
   ],
   "source": [
    "print(train_data[0]) # words have been mapped to ids"
   ]
  },
  {
   "cell_type": "code",
   "execution_count": 5,
   "metadata": {},
   "outputs": [
    {
     "name": "stdout",
     "output_type": "stream",
     "text": [
      "218 189\n"
     ]
    }
   ],
   "source": [
    "print(len(train_data[0]), len(train_data[1])) # different length, need padding"
   ]
  },
  {
   "cell_type": "markdown",
   "metadata": {},
   "source": [
    "## convert the integers back to words"
   ]
  },
  {
   "cell_type": "code",
   "execution_count": 6,
   "metadata": {},
   "outputs": [],
   "source": [
    "# A dictionary mapping words to an integer index\n",
    "word_index = imdb.get_word_index()\n",
    "\n",
    "word_index = {k:(v+3) for k, v in word_index.items()}\n",
    "word_index[\"<PAD>\"] = 0\n",
    "word_index[\"<START>\"] = 1\n",
    "word_index[\"<UNK>\"] = 2  # unknown\n",
    "word_index[\"<UNUSED>\"] = 3\n",
    "\n",
    "reverse_word_index = {v:k for k,v in word_index.items()}\n",
    "\n",
    "def decode_review(text_ids):\n",
    "    return ' '.join([reverse_word_index.get(i + 3, '?') for i in text_ids])"
   ]
  },
  {
   "cell_type": "code",
   "execution_count": 7,
   "metadata": {},
   "outputs": [
    {
     "data": {
      "text/plain": [
       "\"the thought solid thought senator do making to is spot nomination assumed while he of jack in where picked as getting on was did hands fact characters to always life thrillers not as me can't in at are br of sure your way of little it strongly random to view of love it so principles of guy it used producer of where it of here icon film of outside to don't all unique some like of direction it if out her imagination below keep of queen he diverse to makes this stretch and of solid it thought begins br senator and budget worthwhile though ok and awaiting for ever better were and diverse for budget look kicked any to of making it out and follows for effects show to show cast this family us scenes more it severe making senator to and finds tv tend to of emerged these thing wants but and an beckinsale cult as it is video do you david see scenery it in few those are of ship for with of wild to one is very work dark they don't do dvd with those them\""
      ]
     },
     "execution_count": 7,
     "metadata": {},
     "output_type": "execute_result"
    }
   ],
   "source": [
    "# test decode\n",
    "decode_review(train_data[1])"
   ]
  },
  {
   "cell_type": "markdown",
   "metadata": {},
   "source": [
    "## Prepare the data"
   ]
  },
  {
   "cell_type": "code",
   "execution_count": 8,
   "metadata": {},
   "outputs": [
    {
     "name": "stdout",
     "output_type": "stream",
     "text": [
      "256 256\n"
     ]
    }
   ],
   "source": [
    "# paddings\n",
    "train_data = keras.preprocessing.sequence.pad_sequences(sequences=train_data,\n",
    "                                                       value=word_index['<PAD>'], \n",
    "                                                       padding='post',\n",
    "                                                       truncating='post',\n",
    "                                                       maxlen=256)\n",
    "test_data = keras.preprocessing.sequence.pad_sequences(sequences=test_data,\n",
    "                                                      value=word_index['<PAD>'],\n",
    "                                                      padding='post',\n",
    "                                                      truncating='post',\n",
    "                                                      maxlen=256)\n",
    "print(len(train_data[0]), len(train_data[1]))"
   ]
  },
  {
   "cell_type": "code",
   "execution_count": 9,
   "metadata": {},
   "outputs": [
    {
     "name": "stdout",
     "output_type": "stream",
     "text": [
      "256 256\n"
     ]
    }
   ],
   "source": [
    "print(len(train_data[0]), len(train_data[1]))"
   ]
  },
  {
   "cell_type": "code",
   "execution_count": 10,
   "metadata": {},
   "outputs": [
    {
     "name": "stdout",
     "output_type": "stream",
     "text": [
      "[   1  194 1153  194 8255   78  228    5    6 1463 4369 5012  134   26\n",
      "    4  715    8  118 1634   14  394   20   13  119  954  189  102    5\n",
      "  207  110 3103   21   14   69  188    8   30   23    7    4  249  126\n",
      "   93    4  114    9 2300 1523    5  647    4  116    9   35 8163    4\n",
      "  229    9  340 1322    4  118    9    4  130 4901   19    4 1002    5\n",
      "   89   29  952   46   37    4  455    9   45   43   38 1543 1905  398\n",
      "    4 1649   26 6853    5  163   11 3215    2    4 1153    9  194  775\n",
      "    7 8255    2  349 2637  148  605    2 8003   15  123  125   68    2\n",
      " 6853   15  349  165 4362   98    5    4  228    9   43    2 1157   15\n",
      "  299  120    5  120  174   11  220  175  136   50    9 4373  228 8255\n",
      "    5    2  656  245 2350    5    4 9837  131  152  491   18    2   32\n",
      " 7464 1212   14    9    6  371   78   22  625   64 1382    9    8  168\n",
      "  145   23    4 1690   15   16    4 1355    5   28    6   52  154  462\n",
      "   33   89   78  285   16  145   95    0    0    0    0    0    0    0\n",
      "    0    0    0    0    0    0    0    0    0    0    0    0    0    0\n",
      "    0    0    0    0    0    0    0    0    0    0    0    0    0    0\n",
      "    0    0    0    0    0    0    0    0    0    0    0    0    0    0\n",
      "    0    0    0    0    0    0    0    0    0    0    0    0    0    0\n",
      "    0    0    0    0]\n"
     ]
    }
   ],
   "source": [
    "print(train_data[1])"
   ]
  },
  {
   "cell_type": "markdown",
   "metadata": {},
   "source": [
    "## Build the model"
   ]
  },
  {
   "cell_type": "code",
   "execution_count": 11,
   "metadata": {},
   "outputs": [
    {
     "name": "stdout",
     "output_type": "stream",
     "text": [
      "WARNING:tensorflow:From /opt/anaconda3/envs/AI/lib/python3.6/site-packages/tensorflow_core/python/keras/initializers.py:119: calling RandomUniform.__init__ (from tensorflow.python.ops.init_ops) with dtype is deprecated and will be removed in a future version.\n",
      "Instructions for updating:\n",
      "Call initializer instance with the dtype argument instead of passing it to the constructor\n",
      "WARNING:tensorflow:From /opt/anaconda3/envs/AI/lib/python3.6/site-packages/tensorflow_core/python/ops/resource_variable_ops.py:1630: calling BaseResourceVariable.__init__ (from tensorflow.python.ops.resource_variable_ops) with constraint is deprecated and will be removed in a future version.\n",
      "Instructions for updating:\n",
      "If using Keras pass *_constraint arguments to layers.\n",
      "Model: \"sequential\"\n",
      "_________________________________________________________________\n",
      "Layer (type)                 Output Shape              Param #   \n",
      "=================================================================\n",
      "embedding (Embedding)        (None, None, 16)          160000    \n",
      "_________________________________________________________________\n",
      "global_average_pooling1d (Gl (None, 16)                0         \n",
      "_________________________________________________________________\n",
      "dense (Dense)                (None, 16)                272       \n",
      "_________________________________________________________________\n",
      "dense_1 (Dense)              (None, 1)                 17        \n",
      "=================================================================\n",
      "Total params: 160,289\n",
      "Trainable params: 160,289\n",
      "Non-trainable params: 0\n",
      "_________________________________________________________________\n"
     ]
    }
   ],
   "source": [
    "# input shape is the vocabulary count used for the movie reviews (10,000 words)\n",
    "vocab_size = 10000\n",
    "\n",
    "model = keras.Sequential()\n",
    "model.add(keras.layers.Embedding(vocab_size, 16))\n",
    "# shape: (batch, sequence, embedding)，这里每个sample sequence长256\n",
    "model.add(keras.layers.GlobalAveragePooling1D())\n",
    "# shape: (batch, embeding)，average sequence这一维的值\n",
    "# GlobalAveragePooling1D可以根据mask矩阵抉择要平均化的embddings\n",
    "model.add(keras.layers.Dense(16, activation=tf.nn.relu))\n",
    "model.add(keras.layers.Dense(1, activation=tf.nn.sigmoid))\n",
    "\n",
    "model.summary()"
   ]
  },
  {
   "cell_type": "code",
   "execution_count": 12,
   "metadata": {},
   "outputs": [
    {
     "name": "stdout",
     "output_type": "stream",
     "text": [
      "WARNING:tensorflow:From /opt/anaconda3/envs/AI/lib/python3.6/site-packages/tensorflow_core/python/ops/nn_impl.py:183: where (from tensorflow.python.ops.array_ops) is deprecated and will be removed in a future version.\n",
      "Instructions for updating:\n",
      "Use tf.where in 2.0, which has the same broadcast rule as np.where\n"
     ]
    }
   ],
   "source": [
    "model.compile(optimizer='adam',\n",
    "             loss='binary_crossentropy',\n",
    "             metrics=['acc'])"
   ]
  },
  {
   "cell_type": "markdown",
   "metadata": {},
   "source": [
    "##  Create a validation set"
   ]
  },
  {
   "cell_type": "code",
   "execution_count": 13,
   "metadata": {},
   "outputs": [],
   "source": [
    "val_num = 10000\n",
    "x_val = train_data[:val_num]\n",
    "partial_x_train = train_data[val_num:]\n",
    "\n",
    "y_val = train_labels[:val_num]\n",
    "partial_y_train = train_labels[val_num:]"
   ]
  },
  {
   "cell_type": "markdown",
   "metadata": {},
   "source": [
    "## Train the model"
   ]
  },
  {
   "cell_type": "code",
   "execution_count": 14,
   "metadata": {},
   "outputs": [
    {
     "name": "stdout",
     "output_type": "stream",
     "text": [
      "Train on 15000 samples, validate on 10000 samples\n",
      "Epoch 1/40\n",
      "15000/15000 [==============================] - 0s 24us/sample - loss: 0.6922 - acc: 0.5192 - val_loss: 0.6908 - val_acc: 0.4983\n",
      "Epoch 2/40\n",
      "15000/15000 [==============================] - 0s 19us/sample - loss: 0.6878 - acc: 0.5896 - val_loss: 0.6849 - val_acc: 0.5950\n",
      "Epoch 3/40\n",
      "15000/15000 [==============================] - 0s 20us/sample - loss: 0.6778 - acc: 0.6693 - val_loss: 0.6720 - val_acc: 0.7106\n",
      "Epoch 4/40\n",
      "15000/15000 [==============================] - 0s 20us/sample - loss: 0.6583 - acc: 0.7175 - val_loss: 0.6488 - val_acc: 0.7517\n",
      "Epoch 5/40\n",
      "15000/15000 [==============================] - 0s 20us/sample - loss: 0.6281 - acc: 0.7661 - val_loss: 0.6173 - val_acc: 0.7709\n",
      "Epoch 6/40\n",
      "15000/15000 [==============================] - 0s 19us/sample - loss: 0.5892 - acc: 0.7979 - val_loss: 0.5800 - val_acc: 0.7849\n",
      "Epoch 7/40\n",
      "15000/15000 [==============================] - 0s 19us/sample - loss: 0.5445 - acc: 0.8183 - val_loss: 0.5375 - val_acc: 0.8090\n",
      "Epoch 8/40\n",
      "15000/15000 [==============================] - 0s 19us/sample - loss: 0.4984 - acc: 0.8377 - val_loss: 0.4972 - val_acc: 0.8220\n",
      "Epoch 9/40\n",
      "15000/15000 [==============================] - 0s 19us/sample - loss: 0.4544 - acc: 0.8527 - val_loss: 0.4603 - val_acc: 0.8329\n",
      "Epoch 10/40\n",
      "15000/15000 [==============================] - 0s 19us/sample - loss: 0.4148 - acc: 0.8671 - val_loss: 0.4295 - val_acc: 0.8396\n",
      "Epoch 11/40\n",
      "15000/15000 [==============================] - 0s 20us/sample - loss: 0.3810 - acc: 0.8750 - val_loss: 0.4035 - val_acc: 0.8502\n",
      "Epoch 12/40\n",
      "15000/15000 [==============================] - 0s 20us/sample - loss: 0.3524 - acc: 0.8821 - val_loss: 0.3838 - val_acc: 0.8524\n",
      "Epoch 13/40\n",
      "15000/15000 [==============================] - 0s 19us/sample - loss: 0.3290 - acc: 0.8888 - val_loss: 0.3665 - val_acc: 0.8595\n",
      "Epoch 14/40\n",
      "15000/15000 [==============================] - 0s 19us/sample - loss: 0.3081 - acc: 0.8945 - val_loss: 0.3535 - val_acc: 0.8637\n",
      "Epoch 15/40\n",
      "15000/15000 [==============================] - 0s 19us/sample - loss: 0.2905 - acc: 0.8987 - val_loss: 0.3430 - val_acc: 0.8654\n",
      "Epoch 16/40\n",
      "15000/15000 [==============================] - 0s 19us/sample - loss: 0.2747 - acc: 0.9041 - val_loss: 0.3342 - val_acc: 0.8685\n",
      "Epoch 17/40\n",
      "15000/15000 [==============================] - 0s 19us/sample - loss: 0.2606 - acc: 0.9081 - val_loss: 0.3273 - val_acc: 0.8698\n",
      "Epoch 18/40\n",
      "15000/15000 [==============================] - 0s 22us/sample - loss: 0.2481 - acc: 0.9147 - val_loss: 0.3210 - val_acc: 0.8710\n",
      "Epoch 19/40\n",
      "15000/15000 [==============================] - 0s 20us/sample - loss: 0.2364 - acc: 0.9177 - val_loss: 0.3161 - val_acc: 0.8737\n",
      "Epoch 20/40\n",
      "15000/15000 [==============================] - 0s 23us/sample - loss: 0.2267 - acc: 0.9200 - val_loss: 0.3124 - val_acc: 0.8743\n",
      "Epoch 21/40\n",
      "15000/15000 [==============================] - 0s 22us/sample - loss: 0.2161 - acc: 0.9267 - val_loss: 0.3100 - val_acc: 0.8758\n",
      "Epoch 22/40\n",
      "15000/15000 [==============================] - 0s 20us/sample - loss: 0.2072 - acc: 0.9319 - val_loss: 0.3067 - val_acc: 0.8765\n",
      "Epoch 23/40\n",
      "15000/15000 [==============================] - 0s 20us/sample - loss: 0.1983 - acc: 0.9338 - val_loss: 0.3056 - val_acc: 0.8735\n",
      "Epoch 24/40\n",
      "15000/15000 [==============================] - 0s 20us/sample - loss: 0.1906 - acc: 0.9367 - val_loss: 0.3047 - val_acc: 0.8771\n",
      "Epoch 25/40\n",
      "15000/15000 [==============================] - 0s 19us/sample - loss: 0.1827 - acc: 0.9405 - val_loss: 0.3029 - val_acc: 0.8767\n",
      "Epoch 26/40\n",
      "15000/15000 [==============================] - 0s 21us/sample - loss: 0.1755 - acc: 0.9441 - val_loss: 0.3031 - val_acc: 0.8752\n",
      "Epoch 27/40\n",
      "15000/15000 [==============================] - 0s 20us/sample - loss: 0.1691 - acc: 0.9465 - val_loss: 0.3026 - val_acc: 0.8770\n",
      "Epoch 28/40\n",
      "15000/15000 [==============================] - 0s 19us/sample - loss: 0.1628 - acc: 0.9493 - val_loss: 0.3032 - val_acc: 0.8774\n",
      "Epoch 29/40\n",
      "15000/15000 [==============================] - 0s 19us/sample - loss: 0.1567 - acc: 0.9519 - val_loss: 0.3048 - val_acc: 0.8744\n",
      "Epoch 30/40\n",
      "15000/15000 [==============================] - 0s 19us/sample - loss: 0.1511 - acc: 0.9527 - val_loss: 0.3047 - val_acc: 0.8765\n",
      "Epoch 31/40\n",
      "15000/15000 [==============================] - 0s 20us/sample - loss: 0.1450 - acc: 0.9565 - val_loss: 0.3060 - val_acc: 0.8772\n",
      "Epoch 32/40\n",
      "15000/15000 [==============================] - 0s 22us/sample - loss: 0.1397 - acc: 0.9585 - val_loss: 0.3080 - val_acc: 0.8773\n",
      "Epoch 33/40\n",
      "15000/15000 [==============================] - 0s 20us/sample - loss: 0.1343 - acc: 0.9611 - val_loss: 0.3100 - val_acc: 0.8761\n",
      "Epoch 34/40\n",
      "15000/15000 [==============================] - 0s 22us/sample - loss: 0.1295 - acc: 0.9623 - val_loss: 0.3122 - val_acc: 0.8774\n",
      "Epoch 35/40\n",
      "15000/15000 [==============================] - 0s 20us/sample - loss: 0.1257 - acc: 0.9637 - val_loss: 0.3148 - val_acc: 0.8764\n",
      "Epoch 36/40\n",
      "15000/15000 [==============================] - 0s 20us/sample - loss: 0.1206 - acc: 0.9658 - val_loss: 0.3166 - val_acc: 0.8767\n",
      "Epoch 37/40\n",
      "15000/15000 [==============================] - 0s 20us/sample - loss: 0.1162 - acc: 0.9675 - val_loss: 0.3193 - val_acc: 0.8767\n",
      "Epoch 38/40\n",
      "15000/15000 [==============================] - 0s 20us/sample - loss: 0.1120 - acc: 0.9687 - val_loss: 0.3226 - val_acc: 0.8749\n",
      "Epoch 39/40\n",
      "15000/15000 [==============================] - 0s 20us/sample - loss: 0.1083 - acc: 0.9713 - val_loss: 0.3265 - val_acc: 0.8738\n",
      "Epoch 40/40\n",
      "15000/15000 [==============================] - 0s 21us/sample - loss: 0.1041 - acc: 0.9725 - val_loss: 0.3291 - val_acc: 0.8737\n"
     ]
    }
   ],
   "source": [
    "history = model.fit(partial_x_train,\n",
    "                   partial_y_train,\n",
    "                   epochs=40,\n",
    "                   batch_size=512,\n",
    "                   validation_data=(x_val, y_val),\n",
    "                   verbose=1)"
   ]
  },
  {
   "cell_type": "markdown",
   "metadata": {},
   "source": [
    "## Evaluate the model"
   ]
  },
  {
   "cell_type": "code",
   "execution_count": 15,
   "metadata": {},
   "outputs": [
    {
     "name": "stdout",
     "output_type": "stream",
     "text": [
      "25000/25000 - 0s - loss: 0.3647 - acc: 0.8575\n"
     ]
    }
   ],
   "source": [
    "results = model.evaluate(test_data, test_labels, verbose=2)"
   ]
  },
  {
   "cell_type": "code",
   "execution_count": 16,
   "metadata": {},
   "outputs": [
    {
     "name": "stdout",
     "output_type": "stream",
     "text": [
      "[0.36469881927967074, 0.85748]\n"
     ]
    }
   ],
   "source": [
    "# print loss and accuracy\n",
    "print(results) "
   ]
  },
  {
   "cell_type": "markdown",
   "metadata": {},
   "source": [
    "## Create a graph of accuracy and loss over time"
   ]
  },
  {
   "cell_type": "markdown",
   "metadata": {},
   "source": [
    "model.fit() returns a History object that contains a dictionary with everything that happened during training:"
   ]
  },
  {
   "cell_type": "code",
   "execution_count": 18,
   "metadata": {},
   "outputs": [
    {
     "data": {
      "text/plain": [
       "dict_keys(['loss', 'acc', 'val_loss', 'val_acc'])"
      ]
     },
     "execution_count": 18,
     "metadata": {},
     "output_type": "execute_result"
    }
   ],
   "source": [
    "history_dict = history.history\n",
    "history_dict.keys()"
   ]
  },
  {
   "cell_type": "code",
   "execution_count": 22,
   "metadata": {},
   "outputs": [
    {
     "data": {
      "image/png": "[encoded data removed]",
      "text/plain": [
       "<Figure size 432x288 with 1 Axes>"
      ]
     },
     "metadata": {
      "needs_background": "light"
     },
     "output_type": "display_data"
    }
   ],
   "source": [
    "import matplotlib.pyplot as plt\n",
    "%matplotlib inline\n",
    "\n",
    "acc = history_dict['acc']\n",
    "val_acc = history_dict['val_acc']\n",
    "loss = history_dict['loss']\n",
    "val_loss = history_dict['val_loss']\n",
    "\n",
    "epochs = range(1, len(acc) + 1)\n",
    "\n",
    "# \"bo\" is for painting with \"blue dot\"\n",
    "plt.plot(epochs, loss, 'bo', label='Training loss')\n",
    "# \"b\" is for \"solid blue line\"\n",
    "plt.plot(epochs, val_loss, 'b', label='Validation loss')\n",
    "plt.title('Training and validation loss')\n",
    "plt.xlabel('Epochs')\n",
    "plt.ylabel('Loss')\n",
    "plt.legend()\n",
    "\n",
    "plt.show()"
   ]
  },
  {
   "cell_type": "code",
   "execution_count": 23,
   "metadata": {},
   "outputs": [
    {
     "data": {
      "image/png": "[encoded data removed]",
      "text/plain": [
       "<Figure size 432x288 with 1 Axes>"
      ]
     },
     "metadata": {
      "needs_background": "light"
     },
     "output_type": "display_data"
    }
   ],
   "source": [
    "plt.clf() # clar figure\n",
    "\n",
    "# \"bo\" is for painting with \"blue dot\"\n",
    "plt.plot(epochs, acc, 'bo', label='Training acc')\n",
    "# \"b\" is for \"solid blue line\"\n",
    "plt.plot(epochs, val_acc, 'b', label='Validation acc')\n",
    "plt.title('Training and validation accuracy')\n",
    "plt.xlabel('Epochs')\n",
    "plt.ylabel('Accuracy')\n",
    "plt.legend()\n",
    "\n",
    "plt.show()"
   ]
  }
 ],
 "metadata": {
  "kernelspec": {
   "display_name": "Python 3",
   "language": "python",
   "name": "python3"
  },
  "language_info": {
   "codemirror_mode": {
    "name": "ipython",
    "version": 3
   },
   "file_extension": ".py",
   "mimetype": "text/x-python",
   "name": "python",
   "nbconvert_exporter": "python",
   "pygments_lexer": "ipython3",
   "version": "3.6.2"
  }
 },
 "nbformat": 4,
 "nbformat_minor": 2
}
