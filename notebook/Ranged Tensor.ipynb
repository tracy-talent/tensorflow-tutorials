{
 "cells": [
  {
   "cell_type": "markdown",
   "metadata": {},
   "source": [
    "[Tensorflow official guide: Ragged Tensors](https://tensorflow.google.cn/guide/ragged_tensors)<br>\n",
    "运行环境：tf-1.15.0-rc1"
   ]
  },
  {
   "cell_type": "code",
   "execution_count": 1,
   "metadata": {},
   "outputs": [],
   "source": [
    "from __future__ import absolute_import, division, print_function, unicode_literals\n",
    "\n",
    "import math\n",
    "import tensorflow as tf\n",
    "tf.enable_eager_execution()"
   ]
  },
  {
   "cell_type": "code",
   "execution_count": 2,
   "metadata": {},
   "outputs": [
    {
     "name": "stdout",
     "output_type": "stream",
     "text": [
      "<tf.RaggedTensor [[6, 4, 7, 4], [], [8, 12, 5], [9], []]>\n",
      "WARNING:tensorflow:From /opt/anaconda3/envs/AI/lib/python3.6/site-packages/tensorflow_core/python/ops/array_ops.py:1475: where (from tensorflow.python.ops.array_ops) is deprecated and will be removed in a future version.\n",
      "Instructions for updating:\n",
      "Use tf.where in 2.0, which has the same broadcast rule as np.where\n",
      "tf.Tensor([2.25              nan 5.33333333 6.                nan], shape=(5,), dtype=float64)\n",
      "<tf.RaggedTensor [[3, 1, 4, 1], [], [5, 9, 2], [6], [], [5, 3]]>\n",
      "<tf.RaggedTensor [[3, 1, 4, 1, 3, 1, 4, 1], [], [5, 9, 2, 5, 9, 2], [6, 6], []]>\n",
      "<tf.RaggedTensor [[b'So', b'lo'], [b'th', b'fo', b'al', b'th', b'fi']]>\n"
     ]
    }
   ],
   "source": [
    "digits = tf.ragged.constant([[3, 1, 4, 1], [], [5, 9, 2], [6], []])\n",
    "words = tf.ragged.constant([[\"So\", \"long\"], [\"thanks\", \"for\", \"all\", \"the\", \"fish\"]])\n",
    "print(tf.add(digits, 3))  # broadcast, equivalent to digits + 3\n",
    "print(tf.reduce_mean(digits, axis=1))\n",
    "print(tf.concat([digits, [[5, 3]]], axis=1))\n",
    "print(tf.tile(digits, [1, 2]))\n",
    "print(tf.strings.substr(words, 0, 2))"
   ]
  },
  {
   "cell_type": "code",
   "execution_count": 3,
   "metadata": {},
   "outputs": [
    {
     "name": "stdout",
     "output_type": "stream",
     "text": [
      "tf.Tensor([3 1 4 1], shape=(4,), dtype=int32)\n"
     ]
    }
   ],
   "source": [
    "# slice as normal tensors\n",
    "print(digits[0])"
   ]
  },
  {
   "cell_type": "code",
   "execution_count": 4,
   "metadata": {},
   "outputs": [
    {
     "name": "stdout",
     "output_type": "stream",
     "text": [
      "<tf.RaggedTensor [[7, 3, 9, 3], [], [11, 19, 5], [13], []]>\n"
     ]
    }
   ],
   "source": [
    "# elementwise transformation\n",
    "times_two_plus_one = lambda x: x * 2 + 1\n",
    "print(tf.ragged.map_flat_values(times_two_plus_one, digits))"
   ]
  },
  {
   "cell_type": "code",
   "execution_count": 5,
   "metadata": {},
   "outputs": [
    {
     "name": "stdout",
     "output_type": "stream",
     "text": [
      "<tf.RaggedTensor [[3, 1, 4, 1], [], [5, 9, 2], [6]]>\n"
     ]
    }
   ],
   "source": [
    "# build raged tensor by split rowids\n",
    "print(tf.RaggedTensor.from_value_rowids(\n",
    "    values=[3, 1, 4, 1, 5, 9, 2, 6],\n",
    "    value_rowids=[0, 0, 0, 0, 2, 2, 2, 3]))"
   ]
  },
  {
   "cell_type": "code",
   "execution_count": 6,
   "metadata": {},
   "outputs": [
    {
     "name": "stdout",
     "output_type": "stream",
     "text": [
      "<tf.RaggedTensor [[3, 1, 4, 1], [], [5, 9, 2], [6]]>\n"
     ]
    }
   ],
   "source": [
    "# build ragged tensor by define row length\n",
    "print(tf.RaggedTensor.from_row_lengths(\n",
    "    values=[3, 1, 4, 1, 5, 9, 2, 6],\n",
    "    row_lengths=[4, 0, 3, 1]))"
   ]
  },
  {
   "cell_type": "code",
   "execution_count": 7,
   "metadata": {},
   "outputs": [
    {
     "name": "stdout",
     "output_type": "stream",
     "text": [
      "<tf.RaggedTensor [[3, 1, 4, 1], [], [5, 9, 2], [6]]>\n"
     ]
    }
   ],
   "source": [
    "# build ragged tensor by interval splits\n",
    "print(tf.RaggedTensor.from_row_splits(\n",
    "    values=[3, 1, 4, 1, 5, 9, 2, 6],\n",
    "    row_splits=[0, 4, 4, 7, 8]))"
   ]
  },
  {
   "cell_type": "code",
   "execution_count": 8,
   "metadata": {},
   "outputs": [
    {
     "name": "stdout",
     "output_type": "stream",
     "text": [
      "Can't convert Python sequence with mixed types to Tensor.\n"
     ]
    }
   ],
   "source": [
    "# ragged tensor can have variant-length lists, but must all have \n",
    "# the same type and same nesting depth\n",
    "try:\n",
    "  tf.ragged.constant([[\"one\", \"two\"], [3, 4]])              # bad: multiple types\n",
    "except ValueError as exception:\n",
    "  print(exception)"
   ]
  },
  {
   "cell_type": "code",
   "execution_count": 9,
   "metadata": {},
   "outputs": [
    {
     "name": "stdout",
     "output_type": "stream",
     "text": [
      "all scalar values must have the same nesting depth\n"
     ]
    }
   ],
   "source": [
    "try:\n",
    "  tf.ragged.constant([\"A\", [\"B\", \"C\"]])                     # bad: multiple nesting depths\n",
    "except ValueError as exception:\n",
    "  print(exception)"
   ]
  },
  {
   "cell_type": "markdown",
   "metadata": {},
   "source": [
    "### tensor type conversion"
   ]
  },
  {
   "cell_type": "code",
   "execution_count": 20,
   "metadata": {},
   "outputs": [
    {
     "name": "stdout",
     "output_type": "stream",
     "text": [
      "tf.Tensor(\n",
      "[[b'Hi' b'' b'' b'']\n",
      " [b'Welcome' b'to' b'the' b'fair']\n",
      " [b'Have' b'fun' b'' b'']], shape=(3, 4), dtype=string)\n",
      "SparseTensor(indices=tf.Tensor(\n",
      "[[0 0]\n",
      " [1 0]\n",
      " [1 1]\n",
      " [1 2]\n",
      " [1 3]\n",
      " [2 0]\n",
      " [2 1]], shape=(7, 2), dtype=int64), values=tf.Tensor([b'Hi' b'Welcome' b'to' b'the' b'fair' b'Have' b'fun'], shape=(7,), dtype=string), dense_shape=tf.Tensor([3 4], shape=(2,), dtype=int64))\n"
     ]
    }
   ],
   "source": [
    "# ragged tensor to common tensor and sparse\n",
    "ragged_sentences = tf.ragged.constant([\n",
    "    ['Hi'], ['Welcome', 'to', 'the', 'fair'], ['Have', 'fun']])\n",
    "print(ragged_sentences.to_tensor(default_value=''))\n",
    "print(ragged_sentences.to_sparse())"
   ]
  },
  {
   "cell_type": "code",
   "execution_count": 21,
   "metadata": {},
   "outputs": [
    {
     "name": "stdout",
     "output_type": "stream",
     "text": [
      "<tf.RaggedTensor [[1, 3], [2], [4, 5, 8, 9]]>\n",
      "<tf.RaggedTensor [[b'a'], [], [b'b', b'c']]>\n"
     ]
    }
   ],
   "source": [
    "x = [[1, 3, -1, -1], [2, -1, -1, -1], [4, 5, 8, 9]]\n",
    "print(tf.RaggedTensor.from_tensor(x, padding=-1))\n",
    "st = tf.SparseTensor(indices=[[0, 0], [2, 0], [2, 1]],\n",
    "                     values=['a', 'b', 'c'],\n",
    "                     dense_shape=[3, 3])\n",
    "print(tf.RaggedTensor.from_sparse(st))"
   ]
  },
  {
   "cell_type": "code",
   "execution_count": 24,
   "metadata": {},
   "outputs": [
    {
     "name": "stdout",
     "output_type": "stream",
     "text": [
      "[[1, 2], [3, 4, 5], [6], [], [7]]\n"
     ]
    }
   ],
   "source": [
    "rt = tf.ragged.constant([[1, 2], [3, 4, 5], [6], [], [7]])\n",
    "print(rt.to_list())"
   ]
  }
 ],
 "metadata": {
  "kernelspec": {
   "display_name": "Python [conda env:AI] *",
   "language": "python",
   "name": "conda-env-AI-py"
  },
  "language_info": {
   "codemirror_mode": {
    "name": "ipython",
    "version": 3
   },
   "file_extension": ".py",
   "mimetype": "text/x-python",
   "name": "python",
   "nbconvert_exporter": "python",
   "pygments_lexer": "ipython3",
   "version": "3.6.9"
  }
 },
 "nbformat": 4,
 "nbformat_minor": 2
}
